{
 "cells": [
  {
   "cell_type": "code",
   "execution_count": 1,
   "metadata": {},
   "outputs": [],
   "source": [
    "import gradio as gr\n",
    "import os\n",
    "import torch\n",
    "from torch import nn\n",
    "from torchvision import models, transforms\n",
    "from collections import OrderedDict\n",
    "\n",
    "from PIL import Image"
   ]
  },
  {
   "cell_type": "code",
   "execution_count": 2,
   "metadata": {},
   "outputs": [],
   "source": [
    "def load_checkpoint(filepath, class_mapping):\n",
    "    \"\"\"\n",
    "    Loads a checkpoint and rebuilds the model.\n",
    "\n",
    "    Input:\n",
    "    filepath(str): Relative path to model checkpoint\n",
    "    \"\"\"\n",
    "    if os.path.exists(filepath):\n",
    "        checkpoint = torch.load(filepath)\n",
    "\n",
    "        if \"resnet50\" in checkpoint[\"arch\"]:\n",
    "            model = models.resnet50(pretrained=True)\n",
    "            num_ftrs = model.fc.in_features\n",
    "        \n",
    "        elif \"resnet18\" in checkpoint[\"arch\"]:\n",
    "            model = models.resnet18(pretrained=True)\n",
    "            num_ftrs = model.classifier[-1].out_features\n",
    "\n",
    "        elif \"vgg16\" in checkpoint[\"arch\"]:\n",
    "            model = models.vgg16(pretrained=True)\n",
    "            num_ftrs = model.classifier[-1].out_features\n",
    "        \n",
    "        else:\n",
    "            return print(\"Architecture not recognized.\")\n",
    "\n",
    "        for param in model.parameters():\n",
    "            param.requires_grad = False\n",
    "\n",
    "        num_classes = len(class_mapping)\n",
    "        classifier = nn.Sequential(\n",
    "            OrderedDict(\n",
    "                [\n",
    "                    (\"fc\", nn.Linear(num_ftrs, num_classes)),\n",
    "                    (\"output\", nn.LogSoftmax(dim=1)),\n",
    "                ]\n",
    "            )\n",
    "        )\n",
    "        model.fc = classifier\n",
    "\n",
    "        model.class_to_idx = checkpoint[\"class_to_idx\"]        \n",
    "        model.load_state_dict(checkpoint[\"model_state_dict\"])\n",
    "\n",
    "        return model\n",
    "    \n",
    "    else:\n",
    "        print(\"No such checkpoint found.\")"
   ]
  },
  {
   "cell_type": "code",
   "execution_count": 3,
   "metadata": {},
   "outputs": [],
   "source": [
    "# Data structure and model path\n",
    "class_mapping = {'Basalt': 0,\n",
    " 'Coal': 1,\n",
    " 'Granite': 2,\n",
    " 'Limestone': 3,\n",
    " 'Marble': 4,\n",
    " 'Quartzite': 5,\n",
    " 'Sandstone': 6}"
   ]
  },
  {
   "cell_type": "code",
   "execution_count": 4,
   "metadata": {},
   "outputs": [
    {
     "name": "stderr",
     "output_type": "stream",
     "text": [
      "/Users/enjuichang/VSProject/rock-classification/venv/lib/python3.9/site-packages/torchvision/models/_utils.py:208: UserWarning: The parameter 'pretrained' is deprecated since 0.13 and will be removed in 0.15, please use 'weights' instead.\n",
      "  warnings.warn(\n",
      "/Users/enjuichang/VSProject/rock-classification/venv/lib/python3.9/site-packages/torchvision/models/_utils.py:223: UserWarning: Arguments other than a weight enum or `None` for 'weights' are deprecated since 0.13 and will be removed in 0.15. The current behavior is equivalent to passing `weights=ResNet50_Weights.IMAGENET1K_V1`. You can also use `weights=ResNet50_Weights.DEFAULT` to get the most up-to-date weights.\n",
      "  warnings.warn(msg)\n"
     ]
    }
   ],
   "source": [
    "model_path = \"../checkpoint/20220909_resnet50.pth\"\n",
    "res50 = load_checkpoint(model_path, class_mapping)"
   ]
  },
  {
   "cell_type": "code",
   "execution_count": 5,
   "metadata": {},
   "outputs": [],
   "source": [
    "data_transforms = transforms.Compose(\n",
    "        [\n",
    "            transforms.Resize(256),\n",
    "            transforms.CenterCrop(224),\n",
    "            transforms.ToTensor(),\n",
    "            transforms.Normalize([0.485, 0.456, 0.406], [0.229, 0.224, 0.225]),\n",
    "        ])\n",
    "\n",
    "def load_image(img, data_transforms=data_transforms, size=(256,256)):\n",
    "    img = data_transforms(img)\n",
    "    img = img.unsqueeze(0)\n",
    "    return img"
   ]
  },
  {
   "cell_type": "code",
   "execution_count": 6,
   "metadata": {},
   "outputs": [],
   "source": [
    "image = \"../img/Dataset/Coal/2.jpg\"\n",
    "\n",
    "def model_predict(image_pil, model, class_mapping):\n",
    "    img = load_image(image_pil)\n",
    "    output = model(img)\n",
    "    probabilities = torch.exp(output)\n",
    "\n",
    "    prediction = probabilities.max(dim=1)[1].tolist()\n",
    "    class_prob = probabilities.max(dim=1)[0].tolist()\n",
    "    \n",
    "    class_name = [key for key in class_mapping if class_mapping[key] == prediction[0]]\n",
    "    return class_name[0], class_prob[0]"
   ]
  },
  {
   "cell_type": "code",
   "execution_count": 7,
   "metadata": {},
   "outputs": [],
   "source": [
    "\n",
    "def model_predict_path(image_path, model, class_mapping):\n",
    "    image_pil = Image.open(image_path)\n",
    "    image_pil = image_pil.convert(\"RGB\")\n",
    "    img = load_image(image_pil)\n",
    "    output = model.forward(img)\n",
    "    probabilities = torch.exp(output)\n",
    "    prediction = probabilities.max(dim=1)[1].tolist()\n",
    "    class_prob = probabilities.max(dim=1)[0].tolist()\n",
    "    \n",
    "    class_name = [key for key in class_mapping if class_mapping[key] == prediction[0]]\n",
    "    return class_name[0], class_prob[0]"
   ]
  },
  {
   "cell_type": "code",
   "execution_count": 8,
   "metadata": {},
   "outputs": [
    {
     "data": {
      "text/plain": [
       "('Marble', 0.2975787818431854)"
      ]
     },
     "execution_count": 8,
     "metadata": {},
     "output_type": "execute_result"
    }
   ],
   "source": [
    "model_path = \"../checkpoint/20220909_resnet50.pth\"\n",
    "image = \"../img/Dataset/Coal/2.jpg\"\n",
    "res50 = load_checkpoint(model_path, class_mapping)\n",
    "\n",
    "model_predict_path(image, res50, class_mapping)"
   ]
  },
  {
   "cell_type": "code",
   "execution_count": 9,
   "metadata": {},
   "outputs": [],
   "source": [
    "def fn(model_choice, image):\n",
    "    if model_choice==\"resnet_50\":\n",
    "        class_name, class_prob = model_predict(image, res50, class_mapping)\n",
    "        return image, class_name, class_prob\n",
    "    elif model_choice==\"resnet_18\":\n",
    "        return None\n",
    "        # return gptj6B(input)\n",
    "    \n"
   ]
  },
  {
   "cell_type": "code",
   "execution_count": 10,
   "metadata": {},
   "outputs": [
    {
     "name": "stderr",
     "output_type": "stream",
     "text": [
      "/Users/enjuichang/VSProject/rock-classification/venv/lib/python3.9/site-packages/gradio/inputs.py:216: UserWarning: Usage of gradio.inputs is deprecated, and will not be supported in the future, please import your component from gradio.components\n",
      "  warnings.warn(\n",
      "/Users/enjuichang/VSProject/rock-classification/venv/lib/python3.9/site-packages/gradio/deprecation.py:40: UserWarning: `optional` parameter is deprecated, and it has no effect\n",
      "  warnings.warn(value)\n",
      "/Users/enjuichang/VSProject/rock-classification/venv/lib/python3.9/site-packages/gradio/inputs.py:256: UserWarning: Usage of gradio.inputs is deprecated, and will not be supported in the future, please import your component from gradio.components\n",
      "  warnings.warn(\n"
     ]
    },
    {
     "name": "stdout",
     "output_type": "stream",
     "text": [
      "Running on local URL:  http://127.0.0.1:7860\n",
      "Running on public URL: https://10349.gradio.app\n",
      "\n",
      "This share link expires in 72 hours. For free permanent hosting, check out Spaces: https://huggingface.co/spaces\n"
     ]
    },
    {
     "data": {
      "text/html": [
       "<div><iframe src=\"https://10349.gradio.app\" width=\"900\" height=\"500\" allow=\"autoplay; camera; microphone;\" frameborder=\"0\" allowfullscreen></iframe></div>"
      ],
      "text/plain": [
       "<IPython.core.display.HTML object>"
      ]
     },
     "metadata": {},
     "output_type": "display_data"
    },
    {
     "data": {
      "text/plain": [
       "(<gradio.routes.App at 0x1266f4400>,\n",
       " 'http://127.0.0.1:7860/',\n",
       " 'https://10349.gradio.app')"
      ]
     },
     "execution_count": 10,
     "metadata": {},
     "output_type": "execute_result"
    }
   ],
   "source": [
    "title = \"Rock Classification\"\n",
    "description = \"Rock classification using ResNet50\"\n",
    "article = \"Stuff\"\n",
    "\n",
    "gr.Interface(fn, [gr.inputs.Dropdown([\"resnet_50\", \"resnet_18\"]), gr.inputs.Image(type='pil',image_mode=\"RGB\")], [\"image\", \"text\", \"text\"], title=title, description=description, article=article).launch(share=True)\n"
   ]
  },
  {
   "cell_type": "code",
   "execution_count": null,
   "metadata": {},
   "outputs": [],
   "source": []
  },
  {
   "cell_type": "code",
   "execution_count": null,
   "metadata": {},
   "outputs": [],
   "source": []
  }
 ],
 "metadata": {
  "kernelspec": {
   "display_name": "Python 3.9.13 ('venv': venv)",
   "language": "python",
   "name": "python3"
  },
  "language_info": {
   "codemirror_mode": {
    "name": "ipython",
    "version": 3
   },
   "file_extension": ".py",
   "mimetype": "text/x-python",
   "name": "python",
   "nbconvert_exporter": "python",
   "pygments_lexer": "ipython3",
   "version": "3.9.13"
  },
  "orig_nbformat": 4,
  "vscode": {
   "interpreter": {
    "hash": "00857a46c5a5d96ddb302f021b2bcdc3cbd9cb64a766099bac645f7650f79d86"
   }
  }
 },
 "nbformat": 4,
 "nbformat_minor": 2
}

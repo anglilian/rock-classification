{
 "cells": [
  {
   "cell_type": "code",
   "execution_count": 44,
   "metadata": {},
   "outputs": [],
   "source": [
    "import splitfolders\n",
    "import pandas as pd\n",
    "import matplotlib.pyplot as plt\n",
    "\n",
    "import torch\n",
    "from torch import nn\n",
    "from torch import optim\n",
    "from torch.utils.data import DataLoader\n",
    "from torchvision import datasets, transforms, models\n",
    "from collections import OrderedDict\n",
    "from datetime import datetime"
   ]
  },
  {
   "cell_type": "markdown",
   "metadata": {},
   "source": [
    "## Train, validation and test data\n",
    "\n",
    "I split my data into 80% training, 10% validation and 10% testing data."
   ]
  },
  {
   "cell_type": "code",
   "execution_count": 4,
   "metadata": {},
   "outputs": [],
   "source": [
    "DATA_DIR = \"../img/Dataset/\"\n",
    "OUTPUT_DIR = \"../img/output/\"\n",
    "\n",
    "train_size = 0.8\n",
    "val_size = 0.1\n",
    "test_size = 0.1\n",
    "\n",
    "splitfolders.ratio(\n",
    "            DATA_DIR,\n",
    "            output=OUTPUT_DIR,\n",
    "            seed=1337,\n",
    "            ratio=(train_size, val_size, test_size),\n",
    "        )"
   ]
  },
  {
   "cell_type": "markdown",
   "metadata": {},
   "source": [
    "This means that for each class I have ~369 images to train the model, ~46 images to use for parameter tuning and another ~46 images for testing the model's accuracy."
   ]
  },
  {
   "cell_type": "code",
   "execution_count": 16,
   "metadata": {},
   "outputs": [
    {
     "name": "stdout",
     "output_type": "stream",
     "text": [
      "{'test': {'Basalt': 64, 'Coal': 109, 'Granite': 63, 'Limestone': 111, 'Marble': 115, 'Quartzite': 129, 'Sandstone': 103}, 'train': {'Basalt': 383, 'Coal': 411, 'Granite': 382, 'Limestone': 416, 'Marble': 417, 'Quartzite': 438, 'Sandstone': 403}, 'val': {'Basalt': 59, 'Coal': 111, 'Granite': 61, 'Limestone': 109, 'Marble': 118, 'Quartzite': 137, 'Sandstone': 107}}\n"
     ]
    }
   ],
   "source": [
    "import os\n",
    "img_data = {}\n",
    "\n",
    "for folder in os.listdir(OUTPUT_DIR):\n",
    "    subfolder_path = OUTPUT_DIR + folder + '/'\n",
    "    img_data[folder] = {}\n",
    "    for subfolder in os.listdir(subfolder_path):\n",
    "        img_data[folder][subfolder] = len(os.listdir(subfolder_path + subfolder))\n",
    "\n",
    "df = pd.DataFrame.from_dict(img_data, orient='index')\n",
    "df.T.plot(kind='bar')"
   ]
  },
  {
   "cell_type": "markdown",
   "metadata": {},
   "source": [
    "I resized and cropped all images so they will be the same size, then loaded the training, validation and testing data."
   ]
  },
  {
   "cell_type": "code",
   "execution_count": 28,
   "metadata": {},
   "outputs": [],
   "source": [
    "im_size = 224\n",
    "transformation = transforms.Compose(\n",
    "            [\n",
    "                transforms.Resize(256),\n",
    "                transforms.CenterCrop(im_size),\n",
    "                transforms.ToTensor(),\n",
    "                transforms.Normalize([0.485, 0.456, 0.406], [0.229, 0.224, 0.225]),\n",
    "            ])\n",
    "\n",
    " # Load data\n",
    "train_data = datasets.ImageFolder(\n",
    "    OUTPUT_DIR + \"train\", transform=transformation\n",
    ")\n",
    "val_data = datasets.ImageFolder(\n",
    "    OUTPUT_DIR + \"val\", transform=transformation\n",
    ")\n",
    "test_data = datasets.ImageFolder(\n",
    "    OUTPUT_DIR + \"test\", transform=transformation\n",
    ")\n",
    "\n",
    "# Creating data samplers and loaders:\n",
    "BATCH_SIZE = 20\n",
    "train_loader = DataLoader(\n",
    "    train_data, batch_size=BATCH_SIZE, shuffle=True\n",
    ")\n",
    "val_loader = DataLoader(val_data, batch_size=BATCH_SIZE, shuffle=True)\n",
    "test_loader = DataLoader(\n",
    "    test_data, batch_size=BATCH_SIZE, shuffle=False\n",
    ")\n",
    "\n",
    "# Label mapping\n",
    "class_mapping = train_data.class_to_idx"
   ]
  },
  {
   "cell_type": "markdown",
   "metadata": {},
   "source": [
    "## Testing image classification models\n",
    "There are several image classification models out there which were trained on various datasets and built with different architectures. Each model has embeddings for identifying features of images which help classify images into specific classes. I will fine-tune these models at their last layer to output the probability of each image belonging to a specfiic class. There are multiple versions denote the number of layers for that model. More layers means better accuracy but also longer training time. I have also set it to 5 epochs for time constraints.\n",
    "\n",
    "I will compare the performance of **ResNet** and **VGG16**."
   ]
  },
  {
   "cell_type": "code",
   "execution_count": null,
   "metadata": {},
   "outputs": [],
   "source": [
    "def validation(model, criterion, val_loader):\n",
    "    val_loss = 0\n",
    "    accuracy = 0\n",
    "\n",
    "    for images, labels in iter(val_loader):\n",
    "        output = model.forward(images)\n",
    "        val_loss += criterion(output, labels).item()\n",
    "\n",
    "        probabilities = torch.exp(output)\n",
    "\n",
    "        equality = labels.data == probabilities.max(dim=1)[1]\n",
    "        accuracy += equality.type(torch.FloatTensor).mean()\n",
    "\n",
    "    return val_loss, accuracy"
   ]
  },
  {
   "cell_type": "code",
   "execution_count": 39,
   "metadata": {},
   "outputs": [],
   "source": [
    "def train_model(model, optimizer, criterion, train_loader, val_loader, epochs=50):\n",
    "    plot_training = []\n",
    "    plot_validation = []\n",
    "\n",
    "    for e in range(epochs):\n",
    "        model.train()\n",
    "        running_loss = 0\n",
    "\n",
    "        for images, labels in iter(train_loader):\n",
    "            optimizer.zero_grad()\n",
    "\n",
    "            output = model.forward(images)\n",
    "            loss = criterion(output, labels)\n",
    "            loss.backward()\n",
    "            optimizer.step()\n",
    "\n",
    "            running_loss += loss.item()\n",
    "\n",
    "        # Evaluate performance of each epoch\n",
    "        model.eval()\n",
    "\n",
    "        # Turn off gradients for validation, saves memory and computations\n",
    "        with torch.no_grad():\n",
    "            validation_loss, accuracy = validation(model, criterion, val_loader)\n",
    "\n",
    "        print(\n",
    "            \"Epoch: {}/{}.. \".format(e + 1, epochs),\n",
    "            \"Training Loss: {:.3f}.. \".format(running_loss),\n",
    "            \"Validation Loss: {:.3f}.. \".format(\n",
    "                validation_loss / len(val_loader)\n",
    "            ),\n",
    "            \"Validation Accuracy: {:.3f}\".format(accuracy / len(val_loader)),\n",
    "        )\n",
    "\n",
    "        plot_training.append(running_loss)\n",
    "        plot_validation.append(validation_loss / len(val_loader))\n",
    "    \n",
    "    plt.plot(range(len(plot_training)), plot_training, label='training')\n",
    "    plt.plot(range(len(plot_validation)), plot_validation, label='validation')\n",
    "    plt.legend()\n",
    "    plt.show()\n",
    "\n",
    "    return model"
   ]
  },
  {
   "cell_type": "code",
   "execution_count": 42,
   "metadata": {},
   "outputs": [],
   "source": [
    "def save_checkpoint(model, class_mapping, arch):\n",
    "    \"\"\"\n",
    "    Input:\n",
    "    arch(str): Model architecture\n",
    "    \"\"\"\n",
    "\n",
    "    checkpoint = {\n",
    "        \"arch\": arch,\n",
    "        \"class_to_idx\": class_mapping,\n",
    "        \"model_state_dict\": model.state_dict(),\n",
    "    }\n",
    "\n",
    "    timestamp = datetime.now().date().strftime(\"%Y%m%d\")\n",
    "    torch.save(checkpoint, f\"../checkpoint/{timestamp}_{arch}.pth\")"
   ]
  },
  {
   "cell_type": "markdown",
   "metadata": {},
   "source": [
    "#### ResNet\n",
    "\n",
    "A convolutional neural network (CNN) designed to scale the number of layers in deep neural networks. As neural networks gain more layers, we expect its performance to increase but it also increases the complexity of the model since we need to tune more parameters. However, the gain in accuracy drops as the model gains complexity. Instead, ResNet uses skip functions to learn the differences between layers, reducing the number of parameters. The result is a better performing model with lower complexity.\n",
    "\n",
    "I will use the ResNet version with 50 layers. This [video](https://www.youtube.com/watch?v=GWt6Fu05voI) does an excellent job of explaining the paper introducing ResNet, if you are keen to learn more."
   ]
  },
  {
   "cell_type": "code",
   "execution_count": 40,
   "metadata": {},
   "outputs": [
    {
     "name": "stderr",
     "output_type": "stream",
     "text": [
      "c:\\Users\\lilia\\Documents\\rock-classification\\.venv\\lib\\site-packages\\torchvision\\models\\_utils.py:223: UserWarning: Arguments other than a weight enum or `None` for 'weights' are deprecated since 0.13 and will be removed in 0.15. The current behavior is equivalent to passing `weights=ResNet50_Weights.IMAGENET1K_V1`. You can also use `weights=ResNet50_Weights.DEFAULT` to get the most up-to-date weights.\n",
      "  warnings.warn(msg)\n"
     ]
    },
    {
     "name": "stdout",
     "output_type": "stream",
     "text": [
      "Epoch: 1/50..  Training Loss: 194.982..  Validation Loss: 1.094..  Validation Accuracy: 0.616\n",
      "Epoch: 2/50..  Training Loss: 143.558..  Validation Loss: 0.817..  Validation Accuracy: 0.719\n",
      "Epoch: 3/50..  Training Loss: 127.738..  Validation Loss: 0.833..  Validation Accuracy: 0.693\n",
      "Epoch: 4/50..  Training Loss: 121.885..  Validation Loss: 0.723..  Validation Accuracy: 0.750\n",
      "Epoch: 5/50..  Training Loss: 115.257..  Validation Loss: 0.742..  Validation Accuracy: 0.741\n",
      "Epoch: 6/50..  Training Loss: 111.881..  Validation Loss: 0.765..  Validation Accuracy: 0.747\n",
      "Epoch: 7/50..  Training Loss: 107.886..  Validation Loss: 0.689..  Validation Accuracy: 0.764\n",
      "Epoch: 8/50..  Training Loss: 107.136..  Validation Loss: 0.688..  Validation Accuracy: 0.754\n",
      "Epoch: 9/50..  Training Loss: 102.393..  Validation Loss: 0.675..  Validation Accuracy: 0.763\n",
      "Epoch: 10/50..  Training Loss: 102.080..  Validation Loss: 0.665..  Validation Accuracy: 0.760\n",
      "Epoch: 11/50..  Training Loss: 94.525..  Validation Loss: 0.644..  Validation Accuracy: 0.759\n",
      "Epoch: 12/50..  Training Loss: 95.010..  Validation Loss: 0.666..  Validation Accuracy: 0.761\n",
      "Epoch: 13/50..  Training Loss: 93.974..  Validation Loss: 0.626..  Validation Accuracy: 0.766\n",
      "Epoch: 14/50..  Training Loss: 92.935..  Validation Loss: 0.667..  Validation Accuracy: 0.757\n",
      "Epoch: 15/50..  Training Loss: 101.266..  Validation Loss: 0.569..  Validation Accuracy: 0.809\n",
      "Epoch: 16/50..  Training Loss: 92.297..  Validation Loss: 0.571..  Validation Accuracy: 0.804\n",
      "Epoch: 17/50..  Training Loss: 89.366..  Validation Loss: 0.613..  Validation Accuracy: 0.777\n",
      "Epoch: 18/50..  Training Loss: 92.194..  Validation Loss: 0.553..  Validation Accuracy: 0.814\n",
      "Epoch: 19/50..  Training Loss: 85.303..  Validation Loss: 0.672..  Validation Accuracy: 0.743\n",
      "Epoch: 20/50..  Training Loss: 89.498..  Validation Loss: 0.618..  Validation Accuracy: 0.777\n",
      "Epoch: 21/50..  Training Loss: 82.748..  Validation Loss: 0.628..  Validation Accuracy: 0.779\n",
      "Epoch: 22/50..  Training Loss: 83.026..  Validation Loss: 0.549..  Validation Accuracy: 0.809\n",
      "Epoch: 23/50..  Training Loss: 80.610..  Validation Loss: 0.542..  Validation Accuracy: 0.804\n",
      "Epoch: 24/50..  Training Loss: 81.831..  Validation Loss: 0.586..  Validation Accuracy: 0.790\n",
      "Epoch: 25/50..  Training Loss: 81.063..  Validation Loss: 0.510..  Validation Accuracy: 0.820\n",
      "Epoch: 26/50..  Training Loss: 82.798..  Validation Loss: 0.537..  Validation Accuracy: 0.816\n",
      "Epoch: 27/50..  Training Loss: 81.757..  Validation Loss: 0.547..  Validation Accuracy: 0.809\n",
      "Epoch: 28/50..  Training Loss: 78.834..  Validation Loss: 0.516..  Validation Accuracy: 0.817\n",
      "Epoch: 29/50..  Training Loss: 82.746..  Validation Loss: 0.501..  Validation Accuracy: 0.836\n",
      "Epoch: 30/50..  Training Loss: 86.534..  Validation Loss: 0.558..  Validation Accuracy: 0.796\n",
      "Epoch: 31/50..  Training Loss: 74.483..  Validation Loss: 0.506..  Validation Accuracy: 0.829\n",
      "Epoch: 32/50..  Training Loss: 73.268..  Validation Loss: 0.509..  Validation Accuracy: 0.816\n",
      "Epoch: 33/50..  Training Loss: 78.382..  Validation Loss: 0.516..  Validation Accuracy: 0.827\n",
      "Epoch: 34/50..  Training Loss: 72.488..  Validation Loss: 0.545..  Validation Accuracy: 0.797\n",
      "Epoch: 35/50..  Training Loss: 69.651..  Validation Loss: 0.492..  Validation Accuracy: 0.833\n",
      "Epoch: 36/50..  Training Loss: 75.372..  Validation Loss: 0.497..  Validation Accuracy: 0.827\n",
      "Epoch: 37/50..  Training Loss: 76.332..  Validation Loss: 0.512..  Validation Accuracy: 0.834\n",
      "Epoch: 38/50..  Training Loss: 72.346..  Validation Loss: 0.498..  Validation Accuracy: 0.830\n",
      "Epoch: 39/50..  Training Loss: 74.371..  Validation Loss: 0.535..  Validation Accuracy: 0.817\n",
      "Epoch: 40/50..  Training Loss: 73.438..  Validation Loss: 0.522..  Validation Accuracy: 0.820\n",
      "Epoch: 41/50..  Training Loss: 69.559..  Validation Loss: 0.496..  Validation Accuracy: 0.831\n",
      "Epoch: 42/50..  Training Loss: 68.609..  Validation Loss: 0.459..  Validation Accuracy: 0.846\n",
      "Epoch: 43/50..  Training Loss: 71.458..  Validation Loss: 0.571..  Validation Accuracy: 0.809\n",
      "Epoch: 44/50..  Training Loss: 71.765..  Validation Loss: 0.475..  Validation Accuracy: 0.839\n",
      "Epoch: 45/50..  Training Loss: 72.205..  Validation Loss: 0.531..  Validation Accuracy: 0.823\n",
      "Epoch: 46/50..  Training Loss: 66.585..  Validation Loss: 0.502..  Validation Accuracy: 0.840\n",
      "Epoch: 47/50..  Training Loss: 67.701..  Validation Loss: 0.485..  Validation Accuracy: 0.836\n",
      "Epoch: 48/50..  Training Loss: 65.913..  Validation Loss: 0.458..  Validation Accuracy: 0.854\n",
      "Epoch: 49/50..  Training Loss: 68.107..  Validation Loss: 0.459..  Validation Accuracy: 0.846\n",
      "Epoch: 50/50..  Training Loss: 70.445..  Validation Loss: 0.457..  Validation Accuracy: 0.844\n"
     ]
    },
    {
     "data": {
      "image/png": "[encoded data removed]",
      "text/plain": [
       "<Figure size 432x288 with 1 Axes>"
      ]
     },
     "metadata": {
      "needs_background": "light"
     },
     "output_type": "display_data"
    }
   ],
   "source": [
    "model = models.resnet50(weights=True)\n",
    "\n",
    "# Freeze pretrained model parameters to avoid backpropogating through them\n",
    "for parameter in model.parameters():\n",
    "    parameter.requires_grad = False\n",
    "\n",
    "# Build custom classifier\n",
    "num_classes = len(class_mapping)\n",
    "num_ftrs = model.fc.in_features\n",
    "classifier = nn.Sequential(\n",
    "    OrderedDict(\n",
    "        [\n",
    "            (\"fc\", nn.Linear(num_ftrs, num_classes)),\n",
    "            (\"output\", nn.LogSoftmax(dim=1)),\n",
    "        ]\n",
    "    )\n",
    ")\n",
    "model.fc = classifier\n",
    "\n",
    "# Loss function and gradient descent\n",
    "criterion = nn.NLLLoss()\n",
    "optimizer = optim.Adam(model.fc.parameters(), lr=0.001)\n",
    "\n",
    "# Train model\n",
    "resnet_model = train_model(model, optimizer, criterion, train_loader, val_loader)"
   ]
  },
  {
   "cell_type": "markdown",
   "metadata": {},
   "source": [
    "It is worth noting that the data cleaning phase made a *big* difference to our results. Before cleaning, the training accuracy remained around 45%-55% with 100 epochs. Now, the training accuracy beats that of another baseline on Kaggle with only 50 epochs!"
   ]
  },
  {
   "cell_type": "code",
   "execution_count": 45,
   "metadata": {},
   "outputs": [],
   "source": [
    "save_checkpoint(resnet_model, class_mapping, 'resnet50')"
   ]
  },
  {
   "cell_type": "markdown",
   "metadata": {},
   "source": [
    "#### VGGNet\n",
    "CNN pretrained on over a million images from [ImageNet](https://www.image-net.org), a database of 1000 categories of labelled images. I am using the version with 16 layers."
   ]
  },
  {
   "cell_type": "code",
   "execution_count": 58,
   "metadata": {},
   "outputs": [
    {
     "name": "stderr",
     "output_type": "stream",
     "text": [
      "c:\\Users\\lilia\\Documents\\rock-classification\\.venv\\lib\\site-packages\\torchvision\\models\\_utils.py:223: UserWarning: Arguments other than a weight enum or `None` for 'weights' are deprecated since 0.13 and will be removed in 0.15. The current behavior is equivalent to passing `weights=VGG16_Weights.IMAGENET1K_V1`. You can also use `weights=VGG16_Weights.DEFAULT` to get the most up-to-date weights.\n",
      "  warnings.warn(msg)\n"
     ]
    },
    {
     "name": "stdout",
     "output_type": "stream",
     "text": [
      "Epoch: 1/50..  Training Loss: 213.628..  Validation Loss: 1.235..  Validation Accuracy: 0.551\n",
      "Epoch: 2/50..  Training Loss: 183.696..  Validation Loss: 1.087..  Validation Accuracy: 0.626\n",
      "Epoch: 3/50..  Training Loss: 176.445..  Validation Loss: 1.080..  Validation Accuracy: 0.626\n",
      "Epoch: 4/50..  Training Loss: 163.776..  Validation Loss: 1.009..  Validation Accuracy: 0.644\n",
      "Epoch: 5/50..  Training Loss: 162.822..  Validation Loss: 1.046..  Validation Accuracy: 0.639\n",
      "Epoch: 6/50..  Training Loss: 164.758..  Validation Loss: 1.097..  Validation Accuracy: 0.624\n",
      "Epoch: 7/50..  Training Loss: 164.377..  Validation Loss: 1.062..  Validation Accuracy: 0.620\n",
      "Epoch: 8/50..  Training Loss: 155.774..  Validation Loss: 0.972..  Validation Accuracy: 0.667\n",
      "Epoch: 9/50..  Training Loss: 154.564..  Validation Loss: 0.996..  Validation Accuracy: 0.643\n",
      "Epoch: 10/50..  Training Loss: 155.278..  Validation Loss: 0.957..  Validation Accuracy: 0.663\n",
      "Epoch: 11/50..  Training Loss: 158.090..  Validation Loss: 1.026..  Validation Accuracy: 0.651\n",
      "Epoch: 12/50..  Training Loss: 159.206..  Validation Loss: 0.880..  Validation Accuracy: 0.681\n",
      "Epoch: 13/50..  Training Loss: 150.719..  Validation Loss: 0.902..  Validation Accuracy: 0.681\n",
      "Epoch: 14/50..  Training Loss: 156.661..  Validation Loss: 0.984..  Validation Accuracy: 0.649\n",
      "Epoch: 15/50..  Training Loss: 156.500..  Validation Loss: 0.920..  Validation Accuracy: 0.670\n",
      "Epoch: 16/50..  Training Loss: 158.575..  Validation Loss: 0.963..  Validation Accuracy: 0.661\n",
      "Epoch: 17/50..  Training Loss: 155.827..  Validation Loss: 0.939..  Validation Accuracy: 0.687\n",
      "Epoch: 18/50..  Training Loss: 147.677..  Validation Loss: 0.924..  Validation Accuracy: 0.687\n",
      "Epoch: 19/50..  Training Loss: 150.479..  Validation Loss: 0.819..  Validation Accuracy: 0.714\n",
      "Epoch: 20/50..  Training Loss: 144.390..  Validation Loss: 0.939..  Validation Accuracy: 0.667\n",
      "Epoch: 21/50..  Training Loss: 153.707..  Validation Loss: 1.020..  Validation Accuracy: 0.661\n",
      "Epoch: 22/50..  Training Loss: 152.339..  Validation Loss: 0.908..  Validation Accuracy: 0.684\n",
      "Epoch: 23/50..  Training Loss: 145.070..  Validation Loss: 0.878..  Validation Accuracy: 0.699\n",
      "Epoch: 24/50..  Training Loss: 154.689..  Validation Loss: 0.917..  Validation Accuracy: 0.684\n",
      "Epoch: 25/50..  Training Loss: 145.020..  Validation Loss: 0.949..  Validation Accuracy: 0.669\n",
      "Epoch: 26/50..  Training Loss: 145.293..  Validation Loss: 0.983..  Validation Accuracy: 0.643\n",
      "Epoch: 27/50..  Training Loss: 147.825..  Validation Loss: 0.956..  Validation Accuracy: 0.681\n",
      "Epoch: 28/50..  Training Loss: 147.859..  Validation Loss: 0.834..  Validation Accuracy: 0.714\n",
      "Epoch: 29/50..  Training Loss: 146.397..  Validation Loss: 0.900..  Validation Accuracy: 0.689\n",
      "Epoch: 30/50..  Training Loss: 149.014..  Validation Loss: 0.916..  Validation Accuracy: 0.683\n",
      "Epoch: 31/50..  Training Loss: 146.273..  Validation Loss: 0.943..  Validation Accuracy: 0.683\n",
      "Epoch: 32/50..  Training Loss: 143.840..  Validation Loss: 0.811..  Validation Accuracy: 0.713\n",
      "Epoch: 33/50..  Training Loss: 148.350..  Validation Loss: 0.839..  Validation Accuracy: 0.700\n",
      "Epoch: 34/50..  Training Loss: 145.432..  Validation Loss: 0.905..  Validation Accuracy: 0.684\n",
      "Epoch: 35/50..  Training Loss: 142.421..  Validation Loss: 0.853..  Validation Accuracy: 0.691\n",
      "Epoch: 36/50..  Training Loss: 145.923..  Validation Loss: 0.773..  Validation Accuracy: 0.721\n",
      "Epoch: 37/50..  Training Loss: 138.062..  Validation Loss: 0.872..  Validation Accuracy: 0.684\n",
      "Epoch: 38/50..  Training Loss: 145.063..  Validation Loss: 0.888..  Validation Accuracy: 0.707\n",
      "Epoch: 39/50..  Training Loss: 149.211..  Validation Loss: 0.975..  Validation Accuracy: 0.681\n",
      "Epoch: 40/50..  Training Loss: 154.316..  Validation Loss: 0.774..  Validation Accuracy: 0.710\n",
      "Epoch: 41/50..  Training Loss: 140.722..  Validation Loss: 0.830..  Validation Accuracy: 0.696\n",
      "Epoch: 42/50..  Training Loss: 142.240..  Validation Loss: 0.748..  Validation Accuracy: 0.741\n",
      "Epoch: 43/50..  Training Loss: 141.501..  Validation Loss: 0.844..  Validation Accuracy: 0.699\n",
      "Epoch: 44/50..  Training Loss: 142.554..  Validation Loss: 0.839..  Validation Accuracy: 0.704\n",
      "Epoch: 45/50..  Training Loss: 145.630..  Validation Loss: 0.801..  Validation Accuracy: 0.729\n",
      "Epoch: 46/50..  Training Loss: 146.019..  Validation Loss: 0.901..  Validation Accuracy: 0.690\n",
      "Epoch: 47/50..  Training Loss: 145.004..  Validation Loss: 0.909..  Validation Accuracy: 0.683\n",
      "Epoch: 48/50..  Training Loss: 150.493..  Validation Loss: 0.895..  Validation Accuracy: 0.670\n",
      "Epoch: 49/50..  Training Loss: 146.242..  Validation Loss: 0.864..  Validation Accuracy: 0.707\n",
      "Epoch: 50/50..  Training Loss: 137.791..  Validation Loss: 0.812..  Validation Accuracy: 0.713\n"
     ]
    },
    {
     "data": {
      "image/png": "[encoded data removed]",
      "text/plain": [
       "<Figure size 432x288 with 1 Axes>"
      ]
     },
     "metadata": {
      "needs_background": "light"
     },
     "output_type": "display_data"
    }
   ],
   "source": [
    "model = models.vgg16(weights=True)\n",
    "\n",
    "# Freeze pretrained model parameters to avoid backpropogating through them\n",
    "for parameter in model.parameters():\n",
    "    parameter.requires_grad = False\n",
    "\n",
    "# Build custom classifier\n",
    "num_classes = len(class_mapping)\n",
    "# num_ftrs = model.classifier.in_features\n",
    "model.classifier.add_module(\"fc\", nn.Linear(1000, num_classes))\n",
    "model.classifier.add_module(\"output\", nn.LogSoftmax(dim=1))\n",
    "\n",
    "# Loss function and gradient descent\n",
    "criterion = nn.NLLLoss()\n",
    "optimizer = optim.Adam(model.classifier.parameters(), lr=0.001)\n",
    "\n",
    "# Train model\n",
    "vgg_model = train_model(model, optimizer, criterion, train_loader, val_loader)"
   ]
  },
  {
   "cell_type": "code",
   "execution_count": 59,
   "metadata": {},
   "outputs": [],
   "source": [
    "save_checkpoint(vgg_model, class_mapping, 'vgg16')"
   ]
  },
  {
   "cell_type": "markdown",
   "metadata": {},
   "source": [
    "## Testing"
   ]
  },
  {
   "cell_type": "code",
   "execution_count": 60,
   "metadata": {},
   "outputs": [],
   "source": [
    "def test_model(model, test_loader):\n",
    "    model.eval()\n",
    "\n",
    "    with torch.no_grad():\n",
    "        accuracy = 0\n",
    "\n",
    "        for images, labels in iter(test_loader):\n",
    "            output = model.forward(images)\n",
    "            probabilities = torch.exp(output)\n",
    "            equality = labels.data == probabilities.max(dim=1)[1]\n",
    "            accuracy += equality.type(torch.FloatTensor).mean()\n",
    "\n",
    "        test_accuracy = accuracy / len(test_loader)\n",
    "        print(\"Test Accuracy: {}\".format(test_accuracy))"
   ]
  },
  {
   "cell_type": "code",
   "execution_count": 61,
   "metadata": {},
   "outputs": [
    {
     "name": "stdout",
     "output_type": "stream",
     "text": [
      "Test Accuracy: 0.8480952978134155\n"
     ]
    }
   ],
   "source": [
    "test_model(resnet_model, test_loader)"
   ]
  },
  {
   "cell_type": "markdown",
   "metadata": {},
   "source": [
    "## Code to load a checkpointed model"
   ]
  },
  {
   "cell_type": "code",
   "execution_count": null,
   "metadata": {},
   "outputs": [],
   "source": [
    "def load_checkpoint(filepath):\n",
    "    \"\"\"\n",
    "    Loads a checkpoint and rebuilds the model.\n",
    "\n",
    "    Input:\n",
    "    filepath(str): Relative path to model checkpoint\n",
    "    \"\"\"\n",
    "    if os.path.exists(filepath):\n",
    "        checkpoint = torch.load(filepath)\n",
    "\n",
    "        if \"resnet50\" in checkpoint[\"arch\"]:\n",
    "            model = models.resnet50(pretrained=True)\n",
    "        \n",
    "        elif \"vgg16\" in checkpoint[\"arch\"]:\n",
    "            model = models.vgg16(pretrained=True)\n",
    "        \n",
    "        else:\n",
    "            return print(\"Architecture not recognized.\")\n",
    "\n",
    "        for param in model.parameters():\n",
    "            param.requires_grad = False\n",
    "        \n",
    "        model.class_to_idx = checkpoint[\"class_to_idx\"]\n",
    "        model.load_state_dict(checkpoint[\"model_state_dict\"])\n",
    "    \n",
    "    else:\n",
    "        print(\"No such checkpoint found.\")\n",
    "\n",
    "    return model"
   ]
  }
 ],
 "metadata": {
  "kernelspec": {
   "display_name": "Python 3.9.4 ('.venv': venv)",
   "language": "python",
   "name": "python3"
  },
  "language_info": {
   "codemirror_mode": {
    "name": "ipython",
    "version": 3
   },
   "file_extension": ".py",
   "mimetype": "text/x-python",
   "name": "python",
   "nbconvert_exporter": "python",
   "pygments_lexer": "ipython3",
   "version": "3.9.4"
  },
  "orig_nbformat": 4,
  "vscode": {
   "interpreter": {
    "hash": "afc654df1ecfeeab30ac7ea432efadbd949c13f0554b05aac9f65cb64f753106"
   }
  }
 },
 "nbformat": 4,
 "nbformat_minor": 2
}

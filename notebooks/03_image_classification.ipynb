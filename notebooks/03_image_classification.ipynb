{
 "cells": [
  {
   "cell_type": "code",
   "execution_count": 2,
   "metadata": {},
   "outputs": [],
   "source": [
    "import splitfolders\n",
    "import pandas as pd\n",
    "import matplotlib.pyplot as plt\n",
    "import numpy as np\n",
    "\n",
    "import torch\n",
    "from torch import nn\n",
    "from torch import optim\n",
    "from torch.utils.data import DataLoader\n",
    "from torchvision import datasets, transforms, models\n",
    "from collections import OrderedDict\n",
    "from datetime import datetime"
   ]
  },
  {
   "cell_type": "markdown",
   "metadata": {},
   "source": [
    "## Train, validation and test data\n",
    "\n",
    "I split my data into 80% training, 10% validation and 10% testing data."
   ]
  },
  {
   "cell_type": "code",
   "execution_count": 3,
   "metadata": {},
   "outputs": [],
   "source": [
    "DATA_DIR = \"../img/Dataset/\"\n",
    "OUTPUT_DIR = \"../img/output/\"\n",
    "\n",
    "train_size = 0.8\n",
    "val_size = 0.1\n",
    "test_size = 0.1\n",
    "\n",
    "splitfolders.ratio(\n",
    "            DATA_DIR,\n",
    "            output=OUTPUT_DIR,\n",
    "            seed=1337,\n",
    "            ratio=(train_size, val_size, test_size),\n",
    "        )"
   ]
  },
  {
   "cell_type": "markdown",
   "metadata": {},
   "source": [
    "This means that for each class I have ~369 images to train the model, ~46 images to use for parameter tuning and another ~46 images for testing the model's accuracy."
   ]
  },
  {
   "cell_type": "code",
   "execution_count": 3,
   "metadata": {},
   "outputs": [
    {
     "data": {
      "text/plain": [
       "<AxesSubplot:>"
      ]
     },
     "execution_count": 3,
     "metadata": {},
     "output_type": "execute_result"
    },
    {
     "data": {
      "image/png": "[encoded data removed]",
      "text/plain": [
       "<Figure size 432x288 with 1 Axes>"
      ]
     },
     "metadata": {
      "needs_background": "light"
     },
     "output_type": "display_data"
    }
   ],
   "source": [
    "import os\n",
    "img_data = {}\n",
    "\n",
    "for folder in os.listdir(OUTPUT_DIR):\n",
    "    subfolder_path = OUTPUT_DIR + folder + '/'\n",
    "    img_data[folder] = {}\n",
    "    for subfolder in os.listdir(subfolder_path):\n",
    "        img_data[folder][subfolder] = len(os.listdir(subfolder_path + subfolder))\n",
    "\n",
    "df = pd.DataFrame.from_dict(img_data, orient='index')\n",
    "df.T.plot(kind='bar')"
   ]
  },
  {
   "cell_type": "markdown",
   "metadata": {},
   "source": [
    "I resized and cropped all images so they will be the same size, then loaded the training, validation and testing data."
   ]
  },
  {
   "cell_type": "code",
   "execution_count": 4,
   "metadata": {},
   "outputs": [],
   "source": [
    "im_size = 224\n",
    "transformation = transforms.Compose(\n",
    "            [\n",
    "                transforms.Resize(256),\n",
    "                transforms.CenterCrop(im_size),\n",
    "                transforms.ToTensor(),\n",
    "                transforms.Normalize([0.485, 0.456, 0.406], [0.229, 0.224, 0.225]),\n",
    "            ])\n",
    "\n",
    " # Load data\n",
    "train_data = datasets.ImageFolder(\n",
    "    OUTPUT_DIR + \"train\", transform=transformation\n",
    ")\n",
    "val_data = datasets.ImageFolder(\n",
    "    OUTPUT_DIR + \"val\", transform=transformation\n",
    ")\n",
    "test_data = datasets.ImageFolder(\n",
    "    OUTPUT_DIR + \"test\", transform=transformation\n",
    ")\n",
    "\n",
    "# Creating data samplers and loaders:\n",
    "BATCH_SIZE = 20\n",
    "train_loader = DataLoader(\n",
    "    train_data, batch_size=BATCH_SIZE, shuffle=True\n",
    ")\n",
    "val_loader = DataLoader(val_data, batch_size=BATCH_SIZE, shuffle=True)\n",
    "test_loader = DataLoader(\n",
    "    test_data, batch_size=BATCH_SIZE, shuffle=False\n",
    ")\n",
    "\n",
    "# Label mapping\n",
    "class_mapping = train_data.class_to_idx"
   ]
  },
  {
   "cell_type": "markdown",
   "metadata": {},
   "source": [
    "## Testing image classification models\n",
    "There are several image classification models out there which were trained on various datasets and built with different architectures. Each model has embeddings for identifying features of images which help classify images into specific classes. I will fine-tune these models at their last layer to output the probability of each image belonging to a specific class. There are multiple versions that denote the number of layers for that model. More layers mean better accuracy but also longer training time. I have also set it to 5 epochs for time constraints.\n",
    "\n",
    "I will compare the performance of **ResNet** and **VGG**."
   ]
  },
  {
   "cell_type": "code",
   "execution_count": 5,
   "metadata": {},
   "outputs": [],
   "source": [
    "def validation(model, criterion, val_loader):\n",
    "    val_loss = 0\n",
    "    accuracy = 0\n",
    "\n",
    "    for images, labels in iter(val_loader):\n",
    "        output = model.forward(images)\n",
    "        val_loss += criterion(output, labels).item()\n",
    "\n",
    "        probabilities = torch.exp(output)\n",
    "\n",
    "        equality = labels.data == probabilities.max(dim=1)[1]\n",
    "        accuracy += equality.type(torch.FloatTensor).mean()\n",
    "\n",
    "    return val_loss, accuracy"
   ]
  },
  {
   "cell_type": "code",
   "execution_count": 6,
   "metadata": {},
   "outputs": [],
   "source": [
    "def train_model(model, optimizer, criterion, train_loader, val_loader, epochs=50):\n",
    "    plot_training = []\n",
    "    plot_validation = []\n",
    "\n",
    "    for e in range(epochs):\n",
    "        model.train()\n",
    "        running_loss = 0\n",
    "\n",
    "        for images, labels in iter(train_loader):\n",
    "            optimizer.zero_grad()\n",
    "\n",
    "            output = model.forward(images)\n",
    "            loss = criterion(output, labels)\n",
    "            loss.backward()\n",
    "            optimizer.step()\n",
    "\n",
    "            running_loss += loss.item()\n",
    "\n",
    "        # Evaluate performance of each epoch\n",
    "        model.eval()\n",
    "\n",
    "        # Turn off gradients for validation, saves memory and computations\n",
    "        with torch.no_grad():\n",
    "            validation_loss, accuracy = validation(model, criterion, val_loader)\n",
    "\n",
    "        print(\n",
    "            \"Epoch: {}/{}.. \".format(e + 1, epochs),\n",
    "            \"Training Loss: {:.3f}.. \".format(running_loss),\n",
    "            \"Validation Loss: {:.3f}.. \".format(\n",
    "                validation_loss / len(val_loader)\n",
    "            ),\n",
    "            \"Validation Accuracy: {:.3f}\".format(accuracy / len(val_loader)),\n",
    "        )\n",
    "\n",
    "        plot_training.append(running_loss)\n",
    "        plot_validation.append(validation_loss / len(val_loader))\n",
    "    \n",
    "    plt.plot(range(len(plot_training)), plot_training, label='training')\n",
    "    plt.plot(range(len(plot_validation)), plot_validation, label='validation')\n",
    "    plt.legend()\n",
    "    plt.show()\n",
    "\n",
    "    return model"
   ]
  },
  {
   "cell_type": "code",
   "execution_count": 7,
   "metadata": {},
   "outputs": [],
   "source": [
    "def save_checkpoint(model, class_mapping, arch):\n",
    "    \"\"\"\n",
    "    Save trained model weights.\n",
    "\n",
    "    Input:\n",
    "    arch(str): Model architecture\n",
    "    \"\"\"\n",
    "\n",
    "    checkpoint = {\n",
    "        \"arch\": arch,\n",
    "        \"class_to_idx\": class_mapping,\n",
    "        \"model_state_dict\": model.state_dict(),\n",
    "    }\n",
    "\n",
    "    timestamp = datetime.now().date().strftime(\"%Y%m%d\")\n",
    "    torch.save(checkpoint, f\"../checkpoint/{timestamp}_{arch}.pth\")"
   ]
  },
  {
   "cell_type": "markdown",
   "metadata": {},
   "source": [
    "#### ResNet\n",
    "\n",
    "A convolutional neural network (CNN) is designed to scale the number of layers in deep neural networks. As neural networks gain more layers, we expect their performance to increase but it also increases the complexity of the model since we need to tune more parameters. However, the gain in accuracy drops as the model gains complexity. Instead, ResNet uses skip functions to learn the differences between layers, reducing the number of parameters. The result is a better-performing model with lower complexity.\n",
    "\n",
    "I will use the ResNet version with 50 layers. This [video](https://www.youtube.com/watch?v=GWt6Fu05voI) does an excellent job of explaining the paper introducing ResNet, if you are keen to learn more."
   ]
  },
  {
   "cell_type": "code",
   "execution_count": 36,
   "metadata": {},
   "outputs": [
    {
     "name": "stderr",
     "output_type": "stream",
     "text": [
      "c:\\Users\\lilia\\Documents\\rock-classification\\rock-classification\\.venv\\lib\\site-packages\\torchvision\\models\\_utils.py:223: UserWarning: Arguments other than a weight enum or `None` for 'weights' are deprecated since 0.13 and will be removed in 0.15. The current behavior is equivalent to passing `weights=ResNet50_Weights.IMAGENET1K_V1`. You can also use `weights=ResNet50_Weights.DEFAULT` to get the most up-to-date weights.\n",
      "  warnings.warn(msg)\n"
     ]
    },
    {
     "name": "stdout",
     "output_type": "stream",
     "text": [
      "ResNet(\n",
      "  (conv1): Conv2d(3, 64, kernel_size=(7, 7), stride=(2, 2), padding=(3, 3), bias=False)\n",
      "  (bn1): BatchNorm2d(64, eps=1e-05, momentum=0.1, affine=True, track_running_stats=True)\n",
      "  (relu): ReLU(inplace=True)\n",
      "  (maxpool): MaxPool2d(kernel_size=3, stride=2, padding=1, dilation=1, ceil_mode=False)\n",
      "  (layer1): Sequential(\n",
      "    (0): Bottleneck(\n",
      "      (conv1): Conv2d(64, 64, kernel_size=(1, 1), stride=(1, 1), bias=False)\n",
      "      (bn1): BatchNorm2d(64, eps=1e-05, momentum=0.1, affine=True, track_running_stats=True)\n",
      "      (conv2): Conv2d(64, 64, kernel_size=(3, 3), stride=(1, 1), padding=(1, 1), bias=False)\n",
      "      (bn2): BatchNorm2d(64, eps=1e-05, momentum=0.1, affine=True, track_running_stats=True)\n",
      "      (conv3): Conv2d(64, 256, kernel_size=(1, 1), stride=(1, 1), bias=False)\n",
      "      (bn3): BatchNorm2d(256, eps=1e-05, momentum=0.1, affine=True, track_running_stats=True)\n",
      "      (relu): ReLU(inplace=True)\n",
      "      (downsample): Sequential(\n",
      "        (0): Conv2d(64, 256, kernel_size=(1, 1), stride=(1, 1), bias=False)\n",
      "        (1): BatchNorm2d(256, eps=1e-05, momentum=0.1, affine=True, track_running_stats=True)\n",
      "      )\n",
      "    )\n",
      "    (1): Bottleneck(\n",
      "      (conv1): Conv2d(256, 64, kernel_size=(1, 1), stride=(1, 1), bias=False)\n",
      "      (bn1): BatchNorm2d(64, eps=1e-05, momentum=0.1, affine=True, track_running_stats=True)\n",
      "      (conv2): Conv2d(64, 64, kernel_size=(3, 3), stride=(1, 1), padding=(1, 1), bias=False)\n",
      "      (bn2): BatchNorm2d(64, eps=1e-05, momentum=0.1, affine=True, track_running_stats=True)\n",
      "      (conv3): Conv2d(64, 256, kernel_size=(1, 1), stride=(1, 1), bias=False)\n",
      "      (bn3): BatchNorm2d(256, eps=1e-05, momentum=0.1, affine=True, track_running_stats=True)\n",
      "      (relu): ReLU(inplace=True)\n",
      "    )\n",
      "    (2): Bottleneck(\n",
      "      (conv1): Conv2d(256, 64, kernel_size=(1, 1), stride=(1, 1), bias=False)\n",
      "      (bn1): BatchNorm2d(64, eps=1e-05, momentum=0.1, affine=True, track_running_stats=True)\n",
      "      (conv2): Conv2d(64, 64, kernel_size=(3, 3), stride=(1, 1), padding=(1, 1), bias=False)\n",
      "      (bn2): BatchNorm2d(64, eps=1e-05, momentum=0.1, affine=True, track_running_stats=True)\n",
      "      (conv3): Conv2d(64, 256, kernel_size=(1, 1), stride=(1, 1), bias=False)\n",
      "      (bn3): BatchNorm2d(256, eps=1e-05, momentum=0.1, affine=True, track_running_stats=True)\n",
      "      (relu): ReLU(inplace=True)\n",
      "    )\n",
      "  )\n",
      "  (layer2): Sequential(\n",
      "    (0): Bottleneck(\n",
      "      (conv1): Conv2d(256, 128, kernel_size=(1, 1), stride=(1, 1), bias=False)\n",
      "      (bn1): BatchNorm2d(128, eps=1e-05, momentum=0.1, affine=True, track_running_stats=True)\n",
      "      (conv2): Conv2d(128, 128, kernel_size=(3, 3), stride=(2, 2), padding=(1, 1), bias=False)\n",
      "      (bn2): BatchNorm2d(128, eps=1e-05, momentum=0.1, affine=True, track_running_stats=True)\n",
      "      (conv3): Conv2d(128, 512, kernel_size=(1, 1), stride=(1, 1), bias=False)\n",
      "      (bn3): BatchNorm2d(512, eps=1e-05, momentum=0.1, affine=True, track_running_stats=True)\n",
      "      (relu): ReLU(inplace=True)\n",
      "      (downsample): Sequential(\n",
      "        (0): Conv2d(256, 512, kernel_size=(1, 1), stride=(2, 2), bias=False)\n",
      "        (1): BatchNorm2d(512, eps=1e-05, momentum=0.1, affine=True, track_running_stats=True)\n",
      "      )\n",
      "    )\n",
      "    (1): Bottleneck(\n",
      "      (conv1): Conv2d(512, 128, kernel_size=(1, 1), stride=(1, 1), bias=False)\n",
      "      (bn1): BatchNorm2d(128, eps=1e-05, momentum=0.1, affine=True, track_running_stats=True)\n",
      "      (conv2): Conv2d(128, 128, kernel_size=(3, 3), stride=(1, 1), padding=(1, 1), bias=False)\n",
      "      (bn2): BatchNorm2d(128, eps=1e-05, momentum=0.1, affine=True, track_running_stats=True)\n",
      "      (conv3): Conv2d(128, 512, kernel_size=(1, 1), stride=(1, 1), bias=False)\n",
      "      (bn3): BatchNorm2d(512, eps=1e-05, momentum=0.1, affine=True, track_running_stats=True)\n",
      "      (relu): ReLU(inplace=True)\n",
      "    )\n",
      "    (2): Bottleneck(\n",
      "      (conv1): Conv2d(512, 128, kernel_size=(1, 1), stride=(1, 1), bias=False)\n",
      "      (bn1): BatchNorm2d(128, eps=1e-05, momentum=0.1, affine=True, track_running_stats=True)\n",
      "      (conv2): Conv2d(128, 128, kernel_size=(3, 3), stride=(1, 1), padding=(1, 1), bias=False)\n",
      "      (bn2): BatchNorm2d(128, eps=1e-05, momentum=0.1, affine=True, track_running_stats=True)\n",
      "      (conv3): Conv2d(128, 512, kernel_size=(1, 1), stride=(1, 1), bias=False)\n",
      "      (bn3): BatchNorm2d(512, eps=1e-05, momentum=0.1, affine=True, track_running_stats=True)\n",
      "      (relu): ReLU(inplace=True)\n",
      "    )\n",
      "    (3): Bottleneck(\n",
      "      (conv1): Conv2d(512, 128, kernel_size=(1, 1), stride=(1, 1), bias=False)\n",
      "      (bn1): BatchNorm2d(128, eps=1e-05, momentum=0.1, affine=True, track_running_stats=True)\n",
      "      (conv2): Conv2d(128, 128, kernel_size=(3, 3), stride=(1, 1), padding=(1, 1), bias=False)\n",
      "      (bn2): BatchNorm2d(128, eps=1e-05, momentum=0.1, affine=True, track_running_stats=True)\n",
      "      (conv3): Conv2d(128, 512, kernel_size=(1, 1), stride=(1, 1), bias=False)\n",
      "      (bn3): BatchNorm2d(512, eps=1e-05, momentum=0.1, affine=True, track_running_stats=True)\n",
      "      (relu): ReLU(inplace=True)\n",
      "    )\n",
      "  )\n",
      "  (layer3): Sequential(\n",
      "    (0): Bottleneck(\n",
      "      (conv1): Conv2d(512, 256, kernel_size=(1, 1), stride=(1, 1), bias=False)\n",
      "      (bn1): BatchNorm2d(256, eps=1e-05, momentum=0.1, affine=True, track_running_stats=True)\n",
      "      (conv2): Conv2d(256, 256, kernel_size=(3, 3), stride=(2, 2), padding=(1, 1), bias=False)\n",
      "      (bn2): BatchNorm2d(256, eps=1e-05, momentum=0.1, affine=True, track_running_stats=True)\n",
      "      (conv3): Conv2d(256, 1024, kernel_size=(1, 1), stride=(1, 1), bias=False)\n",
      "      (bn3): BatchNorm2d(1024, eps=1e-05, momentum=0.1, affine=True, track_running_stats=True)\n",
      "      (relu): ReLU(inplace=True)\n",
      "      (downsample): Sequential(\n",
      "        (0): Conv2d(512, 1024, kernel_size=(1, 1), stride=(2, 2), bias=False)\n",
      "        (1): BatchNorm2d(1024, eps=1e-05, momentum=0.1, affine=True, track_running_stats=True)\n",
      "      )\n",
      "    )\n",
      "    (1): Bottleneck(\n",
      "      (conv1): Conv2d(1024, 256, kernel_size=(1, 1), stride=(1, 1), bias=False)\n",
      "      (bn1): BatchNorm2d(256, eps=1e-05, momentum=0.1, affine=True, track_running_stats=True)\n",
      "      (conv2): Conv2d(256, 256, kernel_size=(3, 3), stride=(1, 1), padding=(1, 1), bias=False)\n",
      "      (bn2): BatchNorm2d(256, eps=1e-05, momentum=0.1, affine=True, track_running_stats=True)\n",
      "      (conv3): Conv2d(256, 1024, kernel_size=(1, 1), stride=(1, 1), bias=False)\n",
      "      (bn3): BatchNorm2d(1024, eps=1e-05, momentum=0.1, affine=True, track_running_stats=True)\n",
      "      (relu): ReLU(inplace=True)\n",
      "    )\n",
      "    (2): Bottleneck(\n",
      "      (conv1): Conv2d(1024, 256, kernel_size=(1, 1), stride=(1, 1), bias=False)\n",
      "      (bn1): BatchNorm2d(256, eps=1e-05, momentum=0.1, affine=True, track_running_stats=True)\n",
      "      (conv2): Conv2d(256, 256, kernel_size=(3, 3), stride=(1, 1), padding=(1, 1), bias=False)\n",
      "      (bn2): BatchNorm2d(256, eps=1e-05, momentum=0.1, affine=True, track_running_stats=True)\n",
      "      (conv3): Conv2d(256, 1024, kernel_size=(1, 1), stride=(1, 1), bias=False)\n",
      "      (bn3): BatchNorm2d(1024, eps=1e-05, momentum=0.1, affine=True, track_running_stats=True)\n",
      "      (relu): ReLU(inplace=True)\n",
      "    )\n",
      "    (3): Bottleneck(\n",
      "      (conv1): Conv2d(1024, 256, kernel_size=(1, 1), stride=(1, 1), bias=False)\n",
      "      (bn1): BatchNorm2d(256, eps=1e-05, momentum=0.1, affine=True, track_running_stats=True)\n",
      "      (conv2): Conv2d(256, 256, kernel_size=(3, 3), stride=(1, 1), padding=(1, 1), bias=False)\n",
      "      (bn2): BatchNorm2d(256, eps=1e-05, momentum=0.1, affine=True, track_running_stats=True)\n",
      "      (conv3): Conv2d(256, 1024, kernel_size=(1, 1), stride=(1, 1), bias=False)\n",
      "      (bn3): BatchNorm2d(1024, eps=1e-05, momentum=0.1, affine=True, track_running_stats=True)\n",
      "      (relu): ReLU(inplace=True)\n",
      "    )\n",
      "    (4): Bottleneck(\n",
      "      (conv1): Conv2d(1024, 256, kernel_size=(1, 1), stride=(1, 1), bias=False)\n",
      "      (bn1): BatchNorm2d(256, eps=1e-05, momentum=0.1, affine=True, track_running_stats=True)\n",
      "      (conv2): Conv2d(256, 256, kernel_size=(3, 3), stride=(1, 1), padding=(1, 1), bias=False)\n",
      "      (bn2): BatchNorm2d(256, eps=1e-05, momentum=0.1, affine=True, track_running_stats=True)\n",
      "      (conv3): Conv2d(256, 1024, kernel_size=(1, 1), stride=(1, 1), bias=False)\n",
      "      (bn3): BatchNorm2d(1024, eps=1e-05, momentum=0.1, affine=True, track_running_stats=True)\n",
      "      (relu): ReLU(inplace=True)\n",
      "    )\n",
      "    (5): Bottleneck(\n",
      "      (conv1): Conv2d(1024, 256, kernel_size=(1, 1), stride=(1, 1), bias=False)\n",
      "      (bn1): BatchNorm2d(256, eps=1e-05, momentum=0.1, affine=True, track_running_stats=True)\n",
      "      (conv2): Conv2d(256, 256, kernel_size=(3, 3), stride=(1, 1), padding=(1, 1), bias=False)\n",
      "      (bn2): BatchNorm2d(256, eps=1e-05, momentum=0.1, affine=True, track_running_stats=True)\n",
      "      (conv3): Conv2d(256, 1024, kernel_size=(1, 1), stride=(1, 1), bias=False)\n",
      "      (bn3): BatchNorm2d(1024, eps=1e-05, momentum=0.1, affine=True, track_running_stats=True)\n",
      "      (relu): ReLU(inplace=True)\n",
      "    )\n",
      "  )\n",
      "  (layer4): Sequential(\n",
      "    (0): Bottleneck(\n",
      "      (conv1): Conv2d(1024, 512, kernel_size=(1, 1), stride=(1, 1), bias=False)\n",
      "      (bn1): BatchNorm2d(512, eps=1e-05, momentum=0.1, affine=True, track_running_stats=True)\n",
      "      (conv2): Conv2d(512, 512, kernel_size=(3, 3), stride=(2, 2), padding=(1, 1), bias=False)\n",
      "      (bn2): BatchNorm2d(512, eps=1e-05, momentum=0.1, affine=True, track_running_stats=True)\n",
      "      (conv3): Conv2d(512, 2048, kernel_size=(1, 1), stride=(1, 1), bias=False)\n",
      "      (bn3): BatchNorm2d(2048, eps=1e-05, momentum=0.1, affine=True, track_running_stats=True)\n",
      "      (relu): ReLU(inplace=True)\n",
      "      (downsample): Sequential(\n",
      "        (0): Conv2d(1024, 2048, kernel_size=(1, 1), stride=(2, 2), bias=False)\n",
      "        (1): BatchNorm2d(2048, eps=1e-05, momentum=0.1, affine=True, track_running_stats=True)\n",
      "      )\n",
      "    )\n",
      "    (1): Bottleneck(\n",
      "      (conv1): Conv2d(2048, 512, kernel_size=(1, 1), stride=(1, 1), bias=False)\n",
      "      (bn1): BatchNorm2d(512, eps=1e-05, momentum=0.1, affine=True, track_running_stats=True)\n",
      "      (conv2): Conv2d(512, 512, kernel_size=(3, 3), stride=(1, 1), padding=(1, 1), bias=False)\n",
      "      (bn2): BatchNorm2d(512, eps=1e-05, momentum=0.1, affine=True, track_running_stats=True)\n",
      "      (conv3): Conv2d(512, 2048, kernel_size=(1, 1), stride=(1, 1), bias=False)\n",
      "      (bn3): BatchNorm2d(2048, eps=1e-05, momentum=0.1, affine=True, track_running_stats=True)\n",
      "      (relu): ReLU(inplace=True)\n",
      "    )\n",
      "    (2): Bottleneck(\n",
      "      (conv1): Conv2d(2048, 512, kernel_size=(1, 1), stride=(1, 1), bias=False)\n",
      "      (bn1): BatchNorm2d(512, eps=1e-05, momentum=0.1, affine=True, track_running_stats=True)\n",
      "      (conv2): Conv2d(512, 512, kernel_size=(3, 3), stride=(1, 1), padding=(1, 1), bias=False)\n",
      "      (bn2): BatchNorm2d(512, eps=1e-05, momentum=0.1, affine=True, track_running_stats=True)\n",
      "      (conv3): Conv2d(512, 2048, kernel_size=(1, 1), stride=(1, 1), bias=False)\n",
      "      (bn3): BatchNorm2d(2048, eps=1e-05, momentum=0.1, affine=True, track_running_stats=True)\n",
      "      (relu): ReLU(inplace=True)\n",
      "    )\n",
      "  )\n",
      "  (avgpool): AdaptiveAvgPool2d(output_size=(1, 1))\n",
      "  (fc): Linear(in_features=2048, out_features=1000, bias=True)\n",
      ")\n"
     ]
    }
   ],
   "source": [
    "model = models.resnet50(weights=True)\n",
    "print(model)"
   ]
  },
  {
   "cell_type": "markdown",
   "metadata": {},
   "source": [
    "I will freeze the model weights for the top layers since we want to utilise the existing architecture."
   ]
  },
  {
   "cell_type": "code",
   "execution_count": 37,
   "metadata": {},
   "outputs": [],
   "source": [
    "# Freeze pretrained model parameters to avoid backpropogating through them\n",
    "for parameter in model.parameters():\n",
    "    parameter.requires_grad = False"
   ]
  },
  {
   "cell_type": "markdown",
   "metadata": {},
   "source": [
    "Then, I will replace the final layer of the model with two layers to finetune it. (1) A fully connected layer to convert the outputs to the correct dimensions for (2) a log softmax layer for the probability of each image being categorised as a rock type. I use softmax because I want to get the probability of a rock being in each class rather than an integer telling me whether the rock is in a certain class or not."
   ]
  },
  {
   "cell_type": "code",
   "execution_count": 38,
   "metadata": {},
   "outputs": [
    {
     "name": "stdout",
     "output_type": "stream",
     "text": [
      "Original final layer\n",
      "Linear(in_features=2048, out_features=1000, bias=True)\n",
      "\n",
      "Modified final layer\n",
      "Sequential(\n",
      "  (fc): Linear(in_features=2048, out_features=7, bias=True)\n",
      "  (output): LogSoftmax(dim=1)\n",
      ")\n"
     ]
    }
   ],
   "source": [
    "print(\"Original final layer\")\n",
    "print(model.fc)\n",
    "\n",
    "# Build custom classifier\n",
    "num_classes = len(class_mapping)\n",
    "num_ftrs = model.fc.in_features\n",
    "classifier = nn.Sequential(\n",
    "    OrderedDict(\n",
    "        [\n",
    "            (\"fc\", nn.Linear(num_ftrs, num_classes)),\n",
    "            (\"output\", nn.LogSoftmax(dim=1)),\n",
    "        ]\n",
    "    )\n",
    ")\n",
    "model.fc = classifier\n",
    "\n",
    "print(\"\\nModified final layer\")\n",
    "print(model.fc)"
   ]
  },
  {
   "cell_type": "markdown",
   "metadata": {},
   "source": [
    "I will set the loss function and optimiser which define how the model will learn.\n",
    "\n",
    "The loss function defines the score for each training round. In linear regression, you will typically see the loss function as the residual or mean squared error which shows how wrong each prediction is. MSE penalises wrong answers linearly meaning, whereas the [negative log loss function](https://notesbylex.com/negative-log-likelihood.html#:~:text=Negative%20log-likelihood%20is%20a,all%20items%20in%20the%20batch.) I will use does so exponentially.\n",
    "\n",
    "For example, if an image's true label is `Granite` but is given a probability `y` of being granite. Then, its loss score will be $-log(y)$. The closer the probability is to the true score `1`, the lower the loss is which means a smaller penalty. But there is a significantly higher penalty given as the probability moves away from the true score towards `0`."
   ]
  },
  {
   "cell_type": "code",
   "execution_count": 21,
   "metadata": {},
   "outputs": [
    {
     "data": {
      "image/png": "[encoded data removed]",
      "text/plain": [
       "<Figure size 432x288 with 1 Axes>"
      ]
     },
     "metadata": {
      "needs_background": "light"
     },
     "output_type": "display_data"
    }
   ],
   "source": [
    "x = np.arange(0.01, 1.0, 0.001)\n",
    "y = -np.log(x)\n",
    "\n",
    "fig,ax = plt.subplots(figsize=(6,4))\n",
    "ax.plot(x,y)\n",
    "plt.ylabel('-log(x)')\n",
    "plt.xlabel('x')\n",
    "plt.title('Negative log-likelihood range')\n",
    "plt.show()"
   ]
  },
  {
   "cell_type": "markdown",
   "metadata": {},
   "source": [
    "The optimiser determines how the model uses the calculated loss to learn. Once you know how good/bad your results are, what do you do next to find the lowest possible loss? \n",
    "\n",
    "In a linear regression problem like $mx+c=y$, this might mean figuring out how much to change `m` and `c` to get the lowest possible MSE, preferably in the fewest steps. Typically, we set a learning rate that says how much we should change the weights each time. We might set an optimiser with a variable learning rate that makes bigger changes to weights if the loss is high and smaller changes if the loss is low. \n",
    "\n",
    "I chose the Adam optimiser which is known for relatively fast convergence and is a popular choice in the field.\n",
    "\n",
    "You can watch a more in-depth video explaining optimizers [here](https://www.youtube.com/watch?v=mdKjMPmcWjY)."
   ]
  },
  {
   "cell_type": "code",
   "execution_count": 22,
   "metadata": {},
   "outputs": [],
   "source": [
    "# Loss function and gradient descent\n",
    "criterion = nn.NLLLoss()\n",
    "optimizer = optim.Adam(model.fc.parameters(), lr=0.001)"
   ]
  },
  {
   "cell_type": "markdown",
   "metadata": {},
   "source": [
    "Now that I've set up the model, I can train it. Typically, you would train the model until the loss plateaus which means that the model has converged on a minimum (not necessarily global) and will not improve. However, due to time constraints, I will do a maximum of 50 epochs."
   ]
  },
  {
   "cell_type": "code",
   "execution_count": 40,
   "metadata": {},
   "outputs": [
    {
     "name": "stderr",
     "output_type": "stream",
     "text": [
      "c:\\Users\\lilia\\Documents\\rock-classification\\.venv\\lib\\site-packages\\torchvision\\models\\_utils.py:223: UserWarning: Arguments other than a weight enum or `None` for 'weights' are deprecated since 0.13 and will be removed in 0.15. The current behavior is equivalent to passing `weights=ResNet50_Weights.IMAGENET1K_V1`. You can also use `weights=ResNet50_Weights.DEFAULT` to get the most up-to-date weights.\n",
      "  warnings.warn(msg)\n"
     ]
    },
    {
     "name": "stdout",
     "output_type": "stream",
     "text": [
      "Epoch: 1/50..  Training Loss: 194.982..  Validation Loss: 1.094..  Validation Accuracy: 0.616\n",
      "Epoch: 2/50..  Training Loss: 143.558..  Validation Loss: 0.817..  Validation Accuracy: 0.719\n",
      "Epoch: 3/50..  Training Loss: 127.738..  Validation Loss: 0.833..  Validation Accuracy: 0.693\n",
      "Epoch: 4/50..  Training Loss: 121.885..  Validation Loss: 0.723..  Validation Accuracy: 0.750\n",
      "Epoch: 5/50..  Training Loss: 115.257..  Validation Loss: 0.742..  Validation Accuracy: 0.741\n",
      "Epoch: 6/50..  Training Loss: 111.881..  Validation Loss: 0.765..  Validation Accuracy: 0.747\n",
      "Epoch: 7/50..  Training Loss: 107.886..  Validation Loss: 0.689..  Validation Accuracy: 0.764\n",
      "Epoch: 8/50..  Training Loss: 107.136..  Validation Loss: 0.688..  Validation Accuracy: 0.754\n",
      "Epoch: 9/50..  Training Loss: 102.393..  Validation Loss: 0.675..  Validation Accuracy: 0.763\n",
      "Epoch: 10/50..  Training Loss: 102.080..  Validation Loss: 0.665..  Validation Accuracy: 0.760\n",
      "Epoch: 11/50..  Training Loss: 94.525..  Validation Loss: 0.644..  Validation Accuracy: 0.759\n",
      "Epoch: 12/50..  Training Loss: 95.010..  Validation Loss: 0.666..  Validation Accuracy: 0.761\n",
      "Epoch: 13/50..  Training Loss: 93.974..  Validation Loss: 0.626..  Validation Accuracy: 0.766\n",
      "Epoch: 14/50..  Training Loss: 92.935..  Validation Loss: 0.667..  Validation Accuracy: 0.757\n",
      "Epoch: 15/50..  Training Loss: 101.266..  Validation Loss: 0.569..  Validation Accuracy: 0.809\n",
      "Epoch: 16/50..  Training Loss: 92.297..  Validation Loss: 0.571..  Validation Accuracy: 0.804\n",
      "Epoch: 17/50..  Training Loss: 89.366..  Validation Loss: 0.613..  Validation Accuracy: 0.777\n",
      "Epoch: 18/50..  Training Loss: 92.194..  Validation Loss: 0.553..  Validation Accuracy: 0.814\n",
      "Epoch: 19/50..  Training Loss: 85.303..  Validation Loss: 0.672..  Validation Accuracy: 0.743\n",
      "Epoch: 20/50..  Training Loss: 89.498..  Validation Loss: 0.618..  Validation Accuracy: 0.777\n",
      "Epoch: 21/50..  Training Loss: 82.748..  Validation Loss: 0.628..  Validation Accuracy: 0.779\n",
      "Epoch: 22/50..  Training Loss: 83.026..  Validation Loss: 0.549..  Validation Accuracy: 0.809\n",
      "Epoch: 23/50..  Training Loss: 80.610..  Validation Loss: 0.542..  Validation Accuracy: 0.804\n",
      "Epoch: 24/50..  Training Loss: 81.831..  Validation Loss: 0.586..  Validation Accuracy: 0.790\n",
      "Epoch: 25/50..  Training Loss: 81.063..  Validation Loss: 0.510..  Validation Accuracy: 0.820\n",
      "Epoch: 26/50..  Training Loss: 82.798..  Validation Loss: 0.537..  Validation Accuracy: 0.816\n",
      "Epoch: 27/50..  Training Loss: 81.757..  Validation Loss: 0.547..  Validation Accuracy: 0.809\n",
      "Epoch: 28/50..  Training Loss: 78.834..  Validation Loss: 0.516..  Validation Accuracy: 0.817\n",
      "Epoch: 29/50..  Training Loss: 82.746..  Validation Loss: 0.501..  Validation Accuracy: 0.836\n",
      "Epoch: 30/50..  Training Loss: 86.534..  Validation Loss: 0.558..  Validation Accuracy: 0.796\n",
      "Epoch: 31/50..  Training Loss: 74.483..  Validation Loss: 0.506..  Validation Accuracy: 0.829\n",
      "Epoch: 32/50..  Training Loss: 73.268..  Validation Loss: 0.509..  Validation Accuracy: 0.816\n",
      "Epoch: 33/50..  Training Loss: 78.382..  Validation Loss: 0.516..  Validation Accuracy: 0.827\n",
      "Epoch: 34/50..  Training Loss: 72.488..  Validation Loss: 0.545..  Validation Accuracy: 0.797\n",
      "Epoch: 35/50..  Training Loss: 69.651..  Validation Loss: 0.492..  Validation Accuracy: 0.833\n",
      "Epoch: 36/50..  Training Loss: 75.372..  Validation Loss: 0.497..  Validation Accuracy: 0.827\n",
      "Epoch: 37/50..  Training Loss: 76.332..  Validation Loss: 0.512..  Validation Accuracy: 0.834\n",
      "Epoch: 38/50..  Training Loss: 72.346..  Validation Loss: 0.498..  Validation Accuracy: 0.830\n",
      "Epoch: 39/50..  Training Loss: 74.371..  Validation Loss: 0.535..  Validation Accuracy: 0.817\n",
      "Epoch: 40/50..  Training Loss: 73.438..  Validation Loss: 0.522..  Validation Accuracy: 0.820\n",
      "Epoch: 41/50..  Training Loss: 69.559..  Validation Loss: 0.496..  Validation Accuracy: 0.831\n",
      "Epoch: 42/50..  Training Loss: 68.609..  Validation Loss: 0.459..  Validation Accuracy: 0.846\n",
      "Epoch: 43/50..  Training Loss: 71.458..  Validation Loss: 0.571..  Validation Accuracy: 0.809\n",
      "Epoch: 44/50..  Training Loss: 71.765..  Validation Loss: 0.475..  Validation Accuracy: 0.839\n",
      "Epoch: 45/50..  Training Loss: 72.205..  Validation Loss: 0.531..  Validation Accuracy: 0.823\n",
      "Epoch: 46/50..  Training Loss: 66.585..  Validation Loss: 0.502..  Validation Accuracy: 0.840\n",
      "Epoch: 47/50..  Training Loss: 67.701..  Validation Loss: 0.485..  Validation Accuracy: 0.836\n",
      "Epoch: 48/50..  Training Loss: 65.913..  Validation Loss: 0.458..  Validation Accuracy: 0.854\n",
      "Epoch: 49/50..  Training Loss: 68.107..  Validation Loss: 0.459..  Validation Accuracy: 0.846\n",
      "Epoch: 50/50..  Training Loss: 70.445..  Validation Loss: 0.457..  Validation Accuracy: 0.844\n"
     ]
    },
    {
     "data": {
      "image/png": "[encoded data removed]",
      "text/plain": [
       "<Figure size 432x288 with 1 Axes>"
      ]
     },
     "metadata": {
      "needs_background": "light"
     },
     "output_type": "display_data"
    }
   ],
   "source": [
    "# Train model\n",
    "resnet_model = train_model(model, optimizer, criterion, train_loader, val_loader)"
   ]
  },
  {
   "cell_type": "markdown",
   "metadata": {},
   "source": [
    "It is worth noting that the data cleaning phase made a *big* difference to our results. Before cleaning, the training accuracy remained around 45%-55% with 100 epochs. Now, the training accuracy beats that of another baseline on Kaggle with only 50 epochs!\n",
    "\n",
    "If I trained this model for longer, it is likely that we will get a better accuracy since the training loss has not plateaued yet!"
   ]
  },
  {
   "cell_type": "code",
   "execution_count": 45,
   "metadata": {},
   "outputs": [],
   "source": [
    "save_checkpoint(resnet_model, class_mapping, 'resnet50')"
   ]
  },
  {
   "cell_type": "markdown",
   "metadata": {},
   "source": [
    "#### VGG\n",
    "A CNN pre-trained on over a million images from [ImageNet](https://www.image-net.org), a database of 1000 categories of labelled images. I am using the version with 16 layers.\n",
    "\n",
    "Similarly with the ResNet model, I will freeze the top layers and add two layers at the bottom to finetune the model."
   ]
  },
  {
   "cell_type": "code",
   "execution_count": 28,
   "metadata": {},
   "outputs": [
    {
     "name": "stderr",
     "output_type": "stream",
     "text": [
      "c:\\Users\\lilia\\Documents\\rock-classification\\rock-classification\\.venv\\lib\\site-packages\\torchvision\\models\\_utils.py:223: UserWarning: Arguments other than a weight enum or `None` for 'weights' are deprecated since 0.13 and will be removed in 0.15. The current behavior is equivalent to passing `weights=VGG16_Weights.IMAGENET1K_V1`. You can also use `weights=VGG16_Weights.DEFAULT` to get the most up-to-date weights.\n",
      "  warnings.warn(msg)\n"
     ]
    },
    {
     "name": "stdout",
     "output_type": "stream",
     "text": [
      "VGG(\n",
      "  (features): Sequential(\n",
      "    (0): Conv2d(3, 64, kernel_size=(3, 3), stride=(1, 1), padding=(1, 1))\n",
      "    (1): ReLU(inplace=True)\n",
      "    (2): Conv2d(64, 64, kernel_size=(3, 3), stride=(1, 1), padding=(1, 1))\n",
      "    (3): ReLU(inplace=True)\n",
      "    (4): MaxPool2d(kernel_size=2, stride=2, padding=0, dilation=1, ceil_mode=False)\n",
      "    (5): Conv2d(64, 128, kernel_size=(3, 3), stride=(1, 1), padding=(1, 1))\n",
      "    (6): ReLU(inplace=True)\n",
      "    (7): Conv2d(128, 128, kernel_size=(3, 3), stride=(1, 1), padding=(1, 1))\n",
      "    (8): ReLU(inplace=True)\n",
      "    (9): MaxPool2d(kernel_size=2, stride=2, padding=0, dilation=1, ceil_mode=False)\n",
      "    (10): Conv2d(128, 256, kernel_size=(3, 3), stride=(1, 1), padding=(1, 1))\n",
      "    (11): ReLU(inplace=True)\n",
      "    (12): Conv2d(256, 256, kernel_size=(3, 3), stride=(1, 1), padding=(1, 1))\n",
      "    (13): ReLU(inplace=True)\n",
      "    (14): Conv2d(256, 256, kernel_size=(3, 3), stride=(1, 1), padding=(1, 1))\n",
      "    (15): ReLU(inplace=True)\n",
      "    (16): MaxPool2d(kernel_size=2, stride=2, padding=0, dilation=1, ceil_mode=False)\n",
      "    (17): Conv2d(256, 512, kernel_size=(3, 3), stride=(1, 1), padding=(1, 1))\n",
      "    (18): ReLU(inplace=True)\n",
      "    (19): Conv2d(512, 512, kernel_size=(3, 3), stride=(1, 1), padding=(1, 1))\n",
      "    (20): ReLU(inplace=True)\n",
      "    (21): Conv2d(512, 512, kernel_size=(3, 3), stride=(1, 1), padding=(1, 1))\n",
      "    (22): ReLU(inplace=True)\n",
      "    (23): MaxPool2d(kernel_size=2, stride=2, padding=0, dilation=1, ceil_mode=False)\n",
      "    (24): Conv2d(512, 512, kernel_size=(3, 3), stride=(1, 1), padding=(1, 1))\n",
      "    (25): ReLU(inplace=True)\n",
      "    (26): Conv2d(512, 512, kernel_size=(3, 3), stride=(1, 1), padding=(1, 1))\n",
      "    (27): ReLU(inplace=True)\n",
      "    (28): Conv2d(512, 512, kernel_size=(3, 3), stride=(1, 1), padding=(1, 1))\n",
      "    (29): ReLU(inplace=True)\n",
      "    (30): MaxPool2d(kernel_size=2, stride=2, padding=0, dilation=1, ceil_mode=False)\n",
      "  )\n",
      "  (avgpool): AdaptiveAvgPool2d(output_size=(7, 7))\n",
      "  (classifier): Sequential(\n",
      "    (0): Linear(in_features=25088, out_features=4096, bias=True)\n",
      "    (1): ReLU(inplace=True)\n",
      "    (2): Dropout(p=0.5, inplace=False)\n",
      "    (3): Linear(in_features=4096, out_features=4096, bias=True)\n",
      "    (4): ReLU(inplace=True)\n",
      "    (5): Dropout(p=0.5, inplace=False)\n",
      "    (6): Linear(in_features=4096, out_features=1000, bias=True)\n",
      "  )\n",
      ")\n"
     ]
    }
   ],
   "source": [
    "model = models.vgg16(weights=True)\n",
    "\n",
    "# Freeze pretrained model parameters to avoid backpropogating through them\n",
    "for parameter in model.parameters():\n",
    "    parameter.requires_grad = False\n",
    "\n",
    "print(model)"
   ]
  },
  {
   "cell_type": "code",
   "execution_count": 29,
   "metadata": {},
   "outputs": [
    {
     "name": "stdout",
     "output_type": "stream",
     "text": [
      "Original final layer\n",
      "Sequential(\n",
      "  (0): Linear(in_features=25088, out_features=4096, bias=True)\n",
      "  (1): ReLU(inplace=True)\n",
      "  (2): Dropout(p=0.5, inplace=False)\n",
      "  (3): Linear(in_features=4096, out_features=4096, bias=True)\n",
      "  (4): ReLU(inplace=True)\n",
      "  (5): Dropout(p=0.5, inplace=False)\n",
      "  (6): Linear(in_features=4096, out_features=1000, bias=True)\n",
      ")\n",
      "\n",
      "Modified final layer\n",
      "Sequential(\n",
      "  (0): Linear(in_features=25088, out_features=4096, bias=True)\n",
      "  (1): ReLU(inplace=True)\n",
      "  (2): Dropout(p=0.5, inplace=False)\n",
      "  (3): Linear(in_features=4096, out_features=4096, bias=True)\n",
      "  (4): ReLU(inplace=True)\n",
      "  (5): Dropout(p=0.5, inplace=False)\n",
      "  (6): Linear(in_features=4096, out_features=1000, bias=True)\n",
      "  (fc): Linear(in_features=1000, out_features=7, bias=True)\n",
      "  (output): LogSoftmax(dim=1)\n",
      ")\n"
     ]
    }
   ],
   "source": [
    "print(\"Original final layer\")\n",
    "print(model.classifier)\n",
    "\n",
    "# Build custom classifier\n",
    "num_classes = len(class_mapping)\n",
    "num_ftrs = model.classifier[-1].out_features\n",
    "model.classifier.add_module(\"fc\", nn.Linear(num_ftrs, num_classes))\n",
    "model.classifier.add_module(\"output\", nn.LogSoftmax(dim=1))\n",
    "\n",
    "print(\"\\nModified final layer\")\n",
    "print(model.classifier)"
   ]
  },
  {
   "cell_type": "markdown",
   "metadata": {},
   "source": [
    "I will use the same loss function and optimizer as for the ResNet model and train it for 50 epochs as well."
   ]
  },
  {
   "cell_type": "code",
   "execution_count": 58,
   "metadata": {},
   "outputs": [
    {
     "name": "stderr",
     "output_type": "stream",
     "text": [
      "c:\\Users\\lilia\\Documents\\rock-classification\\.venv\\lib\\site-packages\\torchvision\\models\\_utils.py:223: UserWarning: Arguments other than a weight enum or `None` for 'weights' are deprecated since 0.13 and will be removed in 0.15. The current behavior is equivalent to passing `weights=VGG16_Weights.IMAGENET1K_V1`. You can also use `weights=VGG16_Weights.DEFAULT` to get the most up-to-date weights.\n",
      "  warnings.warn(msg)\n"
     ]
    },
    {
     "name": "stdout",
     "output_type": "stream",
     "text": [
      "Epoch: 1/50..  Training Loss: 213.628..  Validation Loss: 1.235..  Validation Accuracy: 0.551\n",
      "Epoch: 2/50..  Training Loss: 183.696..  Validation Loss: 1.087..  Validation Accuracy: 0.626\n",
      "Epoch: 3/50..  Training Loss: 176.445..  Validation Loss: 1.080..  Validation Accuracy: 0.626\n",
      "Epoch: 4/50..  Training Loss: 163.776..  Validation Loss: 1.009..  Validation Accuracy: 0.644\n",
      "Epoch: 5/50..  Training Loss: 162.822..  Validation Loss: 1.046..  Validation Accuracy: 0.639\n",
      "Epoch: 6/50..  Training Loss: 164.758..  Validation Loss: 1.097..  Validation Accuracy: 0.624\n",
      "Epoch: 7/50..  Training Loss: 164.377..  Validation Loss: 1.062..  Validation Accuracy: 0.620\n",
      "Epoch: 8/50..  Training Loss: 155.774..  Validation Loss: 0.972..  Validation Accuracy: 0.667\n",
      "Epoch: 9/50..  Training Loss: 154.564..  Validation Loss: 0.996..  Validation Accuracy: 0.643\n",
      "Epoch: 10/50..  Training Loss: 155.278..  Validation Loss: 0.957..  Validation Accuracy: 0.663\n",
      "Epoch: 11/50..  Training Loss: 158.090..  Validation Loss: 1.026..  Validation Accuracy: 0.651\n",
      "Epoch: 12/50..  Training Loss: 159.206..  Validation Loss: 0.880..  Validation Accuracy: 0.681\n",
      "Epoch: 13/50..  Training Loss: 150.719..  Validation Loss: 0.902..  Validation Accuracy: 0.681\n",
      "Epoch: 14/50..  Training Loss: 156.661..  Validation Loss: 0.984..  Validation Accuracy: 0.649\n",
      "Epoch: 15/50..  Training Loss: 156.500..  Validation Loss: 0.920..  Validation Accuracy: 0.670\n",
      "Epoch: 16/50..  Training Loss: 158.575..  Validation Loss: 0.963..  Validation Accuracy: 0.661\n",
      "Epoch: 17/50..  Training Loss: 155.827..  Validation Loss: 0.939..  Validation Accuracy: 0.687\n",
      "Epoch: 18/50..  Training Loss: 147.677..  Validation Loss: 0.924..  Validation Accuracy: 0.687\n",
      "Epoch: 19/50..  Training Loss: 150.479..  Validation Loss: 0.819..  Validation Accuracy: 0.714\n",
      "Epoch: 20/50..  Training Loss: 144.390..  Validation Loss: 0.939..  Validation Accuracy: 0.667\n",
      "Epoch: 21/50..  Training Loss: 153.707..  Validation Loss: 1.020..  Validation Accuracy: 0.661\n",
      "Epoch: 22/50..  Training Loss: 152.339..  Validation Loss: 0.908..  Validation Accuracy: 0.684\n",
      "Epoch: 23/50..  Training Loss: 145.070..  Validation Loss: 0.878..  Validation Accuracy: 0.699\n",
      "Epoch: 24/50..  Training Loss: 154.689..  Validation Loss: 0.917..  Validation Accuracy: 0.684\n",
      "Epoch: 25/50..  Training Loss: 145.020..  Validation Loss: 0.949..  Validation Accuracy: 0.669\n",
      "Epoch: 26/50..  Training Loss: 145.293..  Validation Loss: 0.983..  Validation Accuracy: 0.643\n",
      "Epoch: 27/50..  Training Loss: 147.825..  Validation Loss: 0.956..  Validation Accuracy: 0.681\n",
      "Epoch: 28/50..  Training Loss: 147.859..  Validation Loss: 0.834..  Validation Accuracy: 0.714\n",
      "Epoch: 29/50..  Training Loss: 146.397..  Validation Loss: 0.900..  Validation Accuracy: 0.689\n",
      "Epoch: 30/50..  Training Loss: 149.014..  Validation Loss: 0.916..  Validation Accuracy: 0.683\n",
      "Epoch: 31/50..  Training Loss: 146.273..  Validation Loss: 0.943..  Validation Accuracy: 0.683\n",
      "Epoch: 32/50..  Training Loss: 143.840..  Validation Loss: 0.811..  Validation Accuracy: 0.713\n",
      "Epoch: 33/50..  Training Loss: 148.350..  Validation Loss: 0.839..  Validation Accuracy: 0.700\n",
      "Epoch: 34/50..  Training Loss: 145.432..  Validation Loss: 0.905..  Validation Accuracy: 0.684\n",
      "Epoch: 35/50..  Training Loss: 142.421..  Validation Loss: 0.853..  Validation Accuracy: 0.691\n",
      "Epoch: 36/50..  Training Loss: 145.923..  Validation Loss: 0.773..  Validation Accuracy: 0.721\n",
      "Epoch: 37/50..  Training Loss: 138.062..  Validation Loss: 0.872..  Validation Accuracy: 0.684\n",
      "Epoch: 38/50..  Training Loss: 145.063..  Validation Loss: 0.888..  Validation Accuracy: 0.707\n",
      "Epoch: 39/50..  Training Loss: 149.211..  Validation Loss: 0.975..  Validation Accuracy: 0.681\n",
      "Epoch: 40/50..  Training Loss: 154.316..  Validation Loss: 0.774..  Validation Accuracy: 0.710\n",
      "Epoch: 41/50..  Training Loss: 140.722..  Validation Loss: 0.830..  Validation Accuracy: 0.696\n",
      "Epoch: 42/50..  Training Loss: 142.240..  Validation Loss: 0.748..  Validation Accuracy: 0.741\n",
      "Epoch: 43/50..  Training Loss: 141.501..  Validation Loss: 0.844..  Validation Accuracy: 0.699\n",
      "Epoch: 44/50..  Training Loss: 142.554..  Validation Loss: 0.839..  Validation Accuracy: 0.704\n",
      "Epoch: 45/50..  Training Loss: 145.630..  Validation Loss: 0.801..  Validation Accuracy: 0.729\n",
      "Epoch: 46/50..  Training Loss: 146.019..  Validation Loss: 0.901..  Validation Accuracy: 0.690\n",
      "Epoch: 47/50..  Training Loss: 145.004..  Validation Loss: 0.909..  Validation Accuracy: 0.683\n",
      "Epoch: 48/50..  Training Loss: 150.493..  Validation Loss: 0.895..  Validation Accuracy: 0.670\n",
      "Epoch: 49/50..  Training Loss: 146.242..  Validation Loss: 0.864..  Validation Accuracy: 0.707\n",
      "Epoch: 50/50..  Training Loss: 137.791..  Validation Loss: 0.812..  Validation Accuracy: 0.713\n"
     ]
    },
    {
     "data": {
      "image/png": "[encoded data removed]",
      "text/plain": [
       "<Figure size 432x288 with 1 Axes>"
      ]
     },
     "metadata": {
      "needs_background": "light"
     },
     "output_type": "display_data"
    }
   ],
   "source": [
    "# Train model\n",
    "vgg_model = train_model(model, optimizer, criterion, train_loader, val_loader)"
   ]
  },
  {
   "cell_type": "markdown",
   "metadata": {},
   "source": [
    "The VGG16 results are less accurate than ResNet50 and its loss appears to be plateauing which is another signal that it does not perform as well as the ResNet50 model."
   ]
  },
  {
   "cell_type": "code",
   "execution_count": 59,
   "metadata": {},
   "outputs": [],
   "source": [
    "save_checkpoint(vgg_model, class_mapping, 'vgg16')"
   ]
  },
  {
   "cell_type": "markdown",
   "metadata": {},
   "source": [
    "## Testing\n",
    "The moment of truth! I will test the ResNet50 model.\n",
    "\n",
    "One of the benchmarks on Kaggle was 76% so this model performs much better with an accuracy of 85%. Within each class, there is generally better performance for the classes with more unique images (ie: higher initial sample size). This makes sense since it is trained on a wider variety of images which gives it more opportunities to pick out salient features for each class."
   ]
  },
  {
   "cell_type": "code",
   "execution_count": 106,
   "metadata": {},
   "outputs": [
    {
     "name": "stdout",
     "output_type": "stream",
     "text": [
      "              precision    recall  f1-score   support\n",
      "\n",
      "           0       0.79      0.81      0.80        64\n",
      "           1       0.96      0.86      0.91       109\n",
      "           2       0.77      0.86      0.81        63\n",
      "           3       0.83      0.80      0.81       109\n",
      "           4       0.78      0.76      0.77       115\n",
      "           5       0.88      0.91      0.90       129\n",
      "           6       0.90      0.94      0.92       103\n",
      "\n",
      "    accuracy                           0.85       692\n",
      "   macro avg       0.84      0.85      0.85       692\n",
      "weighted avg       0.85      0.85      0.85       692\n",
      "\n"
     ]
    }
   ],
   "source": [
    "from sklearn.metrics import classification_report\n",
    "\n",
    "model.eval()\n",
    "\n",
    "with torch.no_grad():\n",
    "    predictions = []\n",
    "    true_labels = []\n",
    "\n",
    "    for images, labels in iter(test_loader):\n",
    "        output = model.forward(images)\n",
    "        probabilities = torch.exp(output)\n",
    "        predictions += probabilities.max(dim=1)[1].tolist()\n",
    "        true_labels += labels.tolist()\n",
    "\n",
    "print(classification_report(true_labels, predictions))"
   ]
  },
  {
   "cell_type": "markdown",
   "metadata": {},
   "source": [
    "So how might we improve the accuracy of the results?\n",
    "\n",
    "- Increase the training size by adding augmented images for all classes\n",
    "- Experiment with adding more layers to the model\n",
    "- Add more epochs (increase training time) to find the minimum loss\n",
    "- Increase the depth of the ResNet model"
   ]
  },
  {
   "cell_type": "markdown",
   "metadata": {},
   "source": [
    "## Code to load a checkpointed model"
   ]
  },
  {
   "cell_type": "code",
   "execution_count": 83,
   "metadata": {},
   "outputs": [],
   "source": [
    "def load_checkpoint(filepath, class_mapping):\n",
    "    \"\"\"\n",
    "    Loads a checkpoint and rebuilds the model.\n",
    "\n",
    "    Input:\n",
    "    filepath(str): Relative path to model checkpoint\n",
    "    \"\"\"\n",
    "    if os.path.exists(filepath):\n",
    "        checkpoint = torch.load(filepath)\n",
    "\n",
    "        if \"resnet50\" in checkpoint[\"arch\"]:\n",
    "            model = models.resnet50(pretrained=True)\n",
    "            num_ftrs = model.fc.in_features\n",
    "        \n",
    "        elif \"vgg16\" in checkpoint[\"arch\"]:\n",
    "            model = models.vgg16(pretrained=True)\n",
    "            num_ftrs = model.classifier[-1].out_features\n",
    "        \n",
    "        else:\n",
    "            return print(\"Architecture not recognized.\")\n",
    "\n",
    "        for param in model.parameters():\n",
    "            param.requires_grad = False\n",
    "\n",
    "        num_classes = len(class_mapping)\n",
    "        classifier = nn.Sequential(\n",
    "            OrderedDict(\n",
    "                [\n",
    "                    (\"fc\", nn.Linear(num_ftrs, num_classes)),\n",
    "                    (\"output\", nn.LogSoftmax(dim=1)),\n",
    "                ]\n",
    "            )\n",
    "        )\n",
    "        model.fc = classifier\n",
    "\n",
    "        model.class_to_idx = checkpoint[\"class_to_idx\"]        \n",
    "        model.load_state_dict(checkpoint[\"model_state_dict\"])\n",
    "\n",
    "        return model\n",
    "    \n",
    "    else:\n",
    "        print(\"No such checkpoint found.\")"
   ]
  }
 ],
 "metadata": {
  "kernelspec": {
   "display_name": "Python 3.9.4 ('.venv': venv)",
   "language": "python",
   "name": "python3"
  },
  "language_info": {
   "codemirror_mode": {
    "name": "ipython",
    "version": 3
   },
   "file_extension": ".py",
   "mimetype": "text/x-python",
   "name": "python",
   "nbconvert_exporter": "python",
   "pygments_lexer": "ipython3",
   "version": "3.9.4"
  },
  "orig_nbformat": 4,
  "vscode": {
   "interpreter": {
    "hash": "d800fa639d28d92d5d811acdcfd1b5eb79a8c639c79434cdd5a7b13e19ee4d94"
   }
  }
 },
 "nbformat": 4,
 "nbformat_minor": 2
}
